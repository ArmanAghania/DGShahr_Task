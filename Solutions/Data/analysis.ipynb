{
 "cells": [
  {
   "cell_type": "code",
   "execution_count": 3,
   "metadata": {},
   "outputs": [],
   "source": [
    "import numpy as np\n",
    "import pandas as pd\n",
    "import matplotlib.pyplot as plt\n",
    "import seaborn as sns\n",
    "import warnings\n",
    "import sqlite3\n",
    "from scipy.stats import mannwhitneyu\n",
    "\n",
    "warnings.filterwarnings('ignore')"
   ]
  },
  {
   "cell_type": "code",
   "execution_count": 4,
   "metadata": {},
   "outputs": [
    {
     "data": {
      "text/html": [
       "<div>\n",
       "<style scoped>\n",
       "    .dataframe tbody tr th:only-of-type {\n",
       "        vertical-align: middle;\n",
       "    }\n",
       "\n",
       "    .dataframe tbody tr th {\n",
       "        vertical-align: top;\n",
       "    }\n",
       "\n",
       "    .dataframe thead th {\n",
       "        text-align: right;\n",
       "    }\n",
       "</style>\n",
       "<table border=\"1\" class=\"dataframe\">\n",
       "  <thead>\n",
       "    <tr style=\"text-align: right;\">\n",
       "      <th></th>\n",
       "      <th>holyDate</th>\n",
       "    </tr>\n",
       "  </thead>\n",
       "  <tbody>\n",
       "    <tr>\n",
       "      <th>0</th>\n",
       "      <td>2023-01-01</td>\n",
       "    </tr>\n",
       "    <tr>\n",
       "      <th>1</th>\n",
       "      <td>2023-01-06</td>\n",
       "    </tr>\n",
       "    <tr>\n",
       "      <th>2</th>\n",
       "      <td>2023-04-07</td>\n",
       "    </tr>\n",
       "    <tr>\n",
       "      <th>3</th>\n",
       "      <td>2023-04-09</td>\n",
       "    </tr>\n",
       "    <tr>\n",
       "      <th>4</th>\n",
       "      <td>2023-04-10</td>\n",
       "    </tr>\n",
       "    <tr>\n",
       "      <th>5</th>\n",
       "      <td>2023-05-01</td>\n",
       "    </tr>\n",
       "    <tr>\n",
       "      <th>6</th>\n",
       "      <td>2023-05-18</td>\n",
       "    </tr>\n",
       "    <tr>\n",
       "      <th>7</th>\n",
       "      <td>2023-05-28</td>\n",
       "    </tr>\n",
       "    <tr>\n",
       "      <th>8</th>\n",
       "      <td>2023-06-23</td>\n",
       "    </tr>\n",
       "    <tr>\n",
       "      <th>9</th>\n",
       "      <td>2023-06-24</td>\n",
       "    </tr>\n",
       "    <tr>\n",
       "      <th>10</th>\n",
       "      <td>2023-11-04</td>\n",
       "    </tr>\n",
       "    <tr>\n",
       "      <th>11</th>\n",
       "      <td>2023-12-06</td>\n",
       "    </tr>\n",
       "    <tr>\n",
       "      <th>12</th>\n",
       "      <td>2023-12-24</td>\n",
       "    </tr>\n",
       "    <tr>\n",
       "      <th>13</th>\n",
       "      <td>2023-12-25</td>\n",
       "    </tr>\n",
       "    <tr>\n",
       "      <th>14</th>\n",
       "      <td>2023-12-26</td>\n",
       "    </tr>\n",
       "    <tr>\n",
       "      <th>15</th>\n",
       "      <td>2022-01-01</td>\n",
       "    </tr>\n",
       "    <tr>\n",
       "      <th>16</th>\n",
       "      <td>2022-01-06</td>\n",
       "    </tr>\n",
       "    <tr>\n",
       "      <th>17</th>\n",
       "      <td>2022-04-15</td>\n",
       "    </tr>\n",
       "    <tr>\n",
       "      <th>18</th>\n",
       "      <td>2022-04-17</td>\n",
       "    </tr>\n",
       "    <tr>\n",
       "      <th>19</th>\n",
       "      <td>2022-04-18</td>\n",
       "    </tr>\n",
       "    <tr>\n",
       "      <th>20</th>\n",
       "      <td>2022-05-01</td>\n",
       "    </tr>\n",
       "    <tr>\n",
       "      <th>21</th>\n",
       "      <td>2022-05-26</td>\n",
       "    </tr>\n",
       "    <tr>\n",
       "      <th>22</th>\n",
       "      <td>2022-06-05</td>\n",
       "    </tr>\n",
       "    <tr>\n",
       "      <th>23</th>\n",
       "      <td>2022-06-24</td>\n",
       "    </tr>\n",
       "    <tr>\n",
       "      <th>24</th>\n",
       "      <td>2022-06-25</td>\n",
       "    </tr>\n",
       "    <tr>\n",
       "      <th>25</th>\n",
       "      <td>2022-11-05</td>\n",
       "    </tr>\n",
       "    <tr>\n",
       "      <th>26</th>\n",
       "      <td>2022-12-06</td>\n",
       "    </tr>\n",
       "    <tr>\n",
       "      <th>27</th>\n",
       "      <td>2022-12-24</td>\n",
       "    </tr>\n",
       "    <tr>\n",
       "      <th>28</th>\n",
       "      <td>2022-12-25</td>\n",
       "    </tr>\n",
       "    <tr>\n",
       "      <th>29</th>\n",
       "      <td>2022-12-26</td>\n",
       "    </tr>\n",
       "  </tbody>\n",
       "</table>\n",
       "</div>"
      ],
      "text/plain": [
       "      holyDate\n",
       "0   2023-01-01\n",
       "1   2023-01-06\n",
       "2   2023-04-07\n",
       "3   2023-04-09\n",
       "4   2023-04-10\n",
       "5   2023-05-01\n",
       "6   2023-05-18\n",
       "7   2023-05-28\n",
       "8   2023-06-23\n",
       "9   2023-06-24\n",
       "10  2023-11-04\n",
       "11  2023-12-06\n",
       "12  2023-12-24\n",
       "13  2023-12-25\n",
       "14  2023-12-26\n",
       "15  2022-01-01\n",
       "16  2022-01-06\n",
       "17  2022-04-15\n",
       "18  2022-04-17\n",
       "19  2022-04-18\n",
       "20  2022-05-01\n",
       "21  2022-05-26\n",
       "22  2022-06-05\n",
       "23  2022-06-24\n",
       "24  2022-06-25\n",
       "25  2022-11-05\n",
       "26  2022-12-06\n",
       "27  2022-12-24\n",
       "28  2022-12-25\n",
       "29  2022-12-26"
      ]
     },
     "execution_count": 4,
     "metadata": {},
     "output_type": "execute_result"
    }
   ],
   "source": [
    "holidays = pd.read_csv('all_holiday_dates.csv')\n",
    "holidays"
   ]
  },
  {
   "cell_type": "code",
   "execution_count": 5,
   "metadata": {},
   "outputs": [],
   "source": [
    "conn = sqlite3.connect('mock_DG.db')"
   ]
  },
  {
   "cell_type": "code",
   "execution_count": 6,
   "metadata": {},
   "outputs": [
    {
     "data": {
      "text/html": [
       "<div>\n",
       "<style scoped>\n",
       "    .dataframe tbody tr th:only-of-type {\n",
       "        vertical-align: middle;\n",
       "    }\n",
       "\n",
       "    .dataframe tbody tr th {\n",
       "        vertical-align: top;\n",
       "    }\n",
       "\n",
       "    .dataframe thead th {\n",
       "        text-align: right;\n",
       "    }\n",
       "</style>\n",
       "<table border=\"1\" class=\"dataframe\">\n",
       "  <thead>\n",
       "    <tr style=\"text-align: right;\">\n",
       "      <th></th>\n",
       "      <th>id</th>\n",
       "      <th>createdAt</th>\n",
       "      <th>userId</th>\n",
       "      <th>quantity</th>\n",
       "      <th>refunded</th>\n",
       "      <th>currency</th>\n",
       "      <th>sales</th>\n",
       "      <th>providerId</th>\n",
       "    </tr>\n",
       "  </thead>\n",
       "  <tbody>\n",
       "    <tr>\n",
       "      <th>0</th>\n",
       "      <td>4648711062057701806</td>\n",
       "      <td>2023-08-31 10:14:49</td>\n",
       "      <td>833181563296211638</td>\n",
       "      <td>2</td>\n",
       "      <td>0</td>\n",
       "      <td>eur</td>\n",
       "      <td>1000</td>\n",
       "      <td>3518867990385707647</td>\n",
       "    </tr>\n",
       "    <tr>\n",
       "      <th>1</th>\n",
       "      <td>1676056141507951956</td>\n",
       "      <td>2023-03-21 17:04:54</td>\n",
       "      <td>7763311846463275691</td>\n",
       "      <td>1</td>\n",
       "      <td>0</td>\n",
       "      <td>eur</td>\n",
       "      <td>400</td>\n",
       "      <td>6413422964860176913</td>\n",
       "    </tr>\n",
       "    <tr>\n",
       "      <th>2</th>\n",
       "      <td>7745602867536251060</td>\n",
       "      <td>2023-07-19 09:48:28</td>\n",
       "      <td>8919282109171104948</td>\n",
       "      <td>2</td>\n",
       "      <td>0</td>\n",
       "      <td>eur</td>\n",
       "      <td>680</td>\n",
       "      <td>123356649204044788</td>\n",
       "    </tr>\n",
       "    <tr>\n",
       "      <th>3</th>\n",
       "      <td>7319989469562109720</td>\n",
       "      <td>2023-08-10 12:29:01</td>\n",
       "      <td>5785370845306063462</td>\n",
       "      <td>1</td>\n",
       "      <td>0</td>\n",
       "      <td>eur</td>\n",
       "      <td>1099</td>\n",
       "      <td>7268869293921836511</td>\n",
       "    </tr>\n",
       "    <tr>\n",
       "      <th>4</th>\n",
       "      <td>8979946097528312402</td>\n",
       "      <td>2022-10-03 09:55:15</td>\n",
       "      <td>8918527236425591239</td>\n",
       "      <td>1</td>\n",
       "      <td>0</td>\n",
       "      <td>eur</td>\n",
       "      <td>200</td>\n",
       "      <td>7530970657789428790</td>\n",
       "    </tr>\n",
       "  </tbody>\n",
       "</table>\n",
       "</div>"
      ],
      "text/plain": [
       "                    id            createdAt               userId quantity  \\\n",
       "0  4648711062057701806  2023-08-31 10:14:49   833181563296211638        2   \n",
       "1  1676056141507951956  2023-03-21 17:04:54  7763311846463275691        1   \n",
       "2  7745602867536251060  2023-07-19 09:48:28  8919282109171104948        2   \n",
       "3  7319989469562109720  2023-08-10 12:29:01  5785370845306063462        1   \n",
       "4  8979946097528312402  2022-10-03 09:55:15  8918527236425591239        1   \n",
       "\n",
       "  refunded currency sales           providerId  \n",
       "0        0      eur  1000  3518867990385707647  \n",
       "1        0      eur   400  6413422964860176913  \n",
       "2        0      eur   680   123356649204044788  \n",
       "3        0      eur  1099  7268869293921836511  \n",
       "4        0      eur   200  7530970657789428790  "
      ]
     },
     "execution_count": 6,
     "metadata": {},
     "output_type": "execute_result"
    }
   ],
   "source": [
    "orders = pd.read_sql_query('SELECT * FROM orders', conn)\n",
    "orders.head()"
   ]
  },
  {
   "cell_type": "code",
   "execution_count": 7,
   "metadata": {},
   "outputs": [
    {
     "data": {
      "text/html": [
       "<div>\n",
       "<style scoped>\n",
       "    .dataframe tbody tr th:only-of-type {\n",
       "        vertical-align: middle;\n",
       "    }\n",
       "\n",
       "    .dataframe tbody tr th {\n",
       "        vertical-align: top;\n",
       "    }\n",
       "\n",
       "    .dataframe thead th {\n",
       "        text-align: right;\n",
       "    }\n",
       "</style>\n",
       "<table border=\"1\" class=\"dataframe\">\n",
       "  <thead>\n",
       "    <tr style=\"text-align: right;\">\n",
       "      <th></th>\n",
       "      <th>id</th>\n",
       "      <th>defaultOfferType</th>\n",
       "      <th>country</th>\n",
       "      <th>registeredDate</th>\n",
       "    </tr>\n",
       "  </thead>\n",
       "  <tbody>\n",
       "    <tr>\n",
       "      <th>0</th>\n",
       "      <td>6563612899329659014</td>\n",
       "      <td>meal</td>\n",
       "      <td>fin</td>\n",
       "      <td>2015-11-24 16:33:35</td>\n",
       "    </tr>\n",
       "    <tr>\n",
       "      <th>1</th>\n",
       "      <td>8724554181611615450</td>\n",
       "      <td>meal</td>\n",
       "      <td>fin</td>\n",
       "      <td>2016-01-27 00:08:50</td>\n",
       "    </tr>\n",
       "    <tr>\n",
       "      <th>2</th>\n",
       "      <td>946161542061641905</td>\n",
       "      <td>meal</td>\n",
       "      <td>fin</td>\n",
       "      <td>2016-02-01 15:03:27</td>\n",
       "    </tr>\n",
       "    <tr>\n",
       "      <th>3</th>\n",
       "      <td>7056903344430959871</td>\n",
       "      <td>meal</td>\n",
       "      <td>fin</td>\n",
       "      <td>2016-02-02 14:56:40</td>\n",
       "    </tr>\n",
       "    <tr>\n",
       "      <th>4</th>\n",
       "      <td>3497712091356119302</td>\n",
       "      <td>meal</td>\n",
       "      <td>fin</td>\n",
       "      <td>2016-02-03 13:20:29</td>\n",
       "    </tr>\n",
       "  </tbody>\n",
       "</table>\n",
       "</div>"
      ],
      "text/plain": [
       "                    id defaultOfferType country       registeredDate\n",
       "0  6563612899329659014             meal     fin  2015-11-24 16:33:35\n",
       "1  8724554181611615450             meal     fin  2016-01-27 00:08:50\n",
       "2   946161542061641905             meal     fin  2016-02-01 15:03:27\n",
       "3  7056903344430959871             meal     fin  2016-02-02 14:56:40\n",
       "4  3497712091356119302             meal     fin  2016-02-03 13:20:29"
      ]
     },
     "execution_count": 7,
     "metadata": {},
     "output_type": "execute_result"
    }
   ],
   "source": [
    "providers = pd.read_sql_query('SELECT * FROM providers', conn)\n",
    "providers.head()"
   ]
  },
  {
   "cell_type": "code",
   "execution_count": 8,
   "metadata": {},
   "outputs": [
    {
     "data": {
      "text/html": [
       "<div>\n",
       "<style scoped>\n",
       "    .dataframe tbody tr th:only-of-type {\n",
       "        vertical-align: middle;\n",
       "    }\n",
       "\n",
       "    .dataframe tbody tr th {\n",
       "        vertical-align: top;\n",
       "    }\n",
       "\n",
       "    .dataframe thead th {\n",
       "        text-align: right;\n",
       "    }\n",
       "</style>\n",
       "<table border=\"1\" class=\"dataframe\">\n",
       "  <thead>\n",
       "    <tr style=\"text-align: right;\">\n",
       "      <th></th>\n",
       "      <th>id</th>\n",
       "      <th>country</th>\n",
       "      <th>registeredDate</th>\n",
       "    </tr>\n",
       "  </thead>\n",
       "  <tbody>\n",
       "    <tr>\n",
       "      <th>0</th>\n",
       "      <td>6244948894430711520</td>\n",
       "      <td>FI</td>\n",
       "      <td>2015-11-24 16:31:10</td>\n",
       "    </tr>\n",
       "    <tr>\n",
       "      <th>1</th>\n",
       "      <td>7333245412641704133</td>\n",
       "      <td>FI</td>\n",
       "      <td>2015-11-24 16:31:10</td>\n",
       "    </tr>\n",
       "    <tr>\n",
       "      <th>2</th>\n",
       "      <td>7387231492403274666</td>\n",
       "      <td>FI</td>\n",
       "      <td>2015-11-24 16:31:10</td>\n",
       "    </tr>\n",
       "    <tr>\n",
       "      <th>3</th>\n",
       "      <td>462254365688400616</td>\n",
       "      <td>FI</td>\n",
       "      <td>2015-11-24 16:31:10</td>\n",
       "    </tr>\n",
       "    <tr>\n",
       "      <th>4</th>\n",
       "      <td>1895545503734717224</td>\n",
       "      <td>FI</td>\n",
       "      <td>2015-11-24 16:31:10</td>\n",
       "    </tr>\n",
       "    <tr>\n",
       "      <th>...</th>\n",
       "      <td>...</td>\n",
       "      <td>...</td>\n",
       "      <td>...</td>\n",
       "    </tr>\n",
       "    <tr>\n",
       "      <th>358361</th>\n",
       "      <td>7196092156622441252</td>\n",
       "      <td>FI</td>\n",
       "      <td>2023-11-15 12:45:55</td>\n",
       "    </tr>\n",
       "    <tr>\n",
       "      <th>358362</th>\n",
       "      <td>6883201590444718954</td>\n",
       "      <td>SE</td>\n",
       "      <td>2023-11-15 13:05:59</td>\n",
       "    </tr>\n",
       "    <tr>\n",
       "      <th>358363</th>\n",
       "      <td>4955549817670357375</td>\n",
       "      <td>FI</td>\n",
       "      <td>2023-11-15 13:24:56</td>\n",
       "    </tr>\n",
       "    <tr>\n",
       "      <th>358364</th>\n",
       "      <td>453099225938434358</td>\n",
       "      <td>FI</td>\n",
       "      <td>2023-11-15 13:42:19</td>\n",
       "    </tr>\n",
       "    <tr>\n",
       "      <th>358365</th>\n",
       "      <td>1917224168476386208</td>\n",
       "      <td>FI</td>\n",
       "      <td>2023-11-15 14:12:00</td>\n",
       "    </tr>\n",
       "  </tbody>\n",
       "</table>\n",
       "<p>358366 rows × 3 columns</p>\n",
       "</div>"
      ],
      "text/plain": [
       "                         id country       registeredDate\n",
       "0       6244948894430711520      FI  2015-11-24 16:31:10\n",
       "1       7333245412641704133      FI  2015-11-24 16:31:10\n",
       "2       7387231492403274666      FI  2015-11-24 16:31:10\n",
       "3        462254365688400616      FI  2015-11-24 16:31:10\n",
       "4       1895545503734717224      FI  2015-11-24 16:31:10\n",
       "...                     ...     ...                  ...\n",
       "358361  7196092156622441252      FI  2023-11-15 12:45:55\n",
       "358362  6883201590444718954      SE  2023-11-15 13:05:59\n",
       "358363  4955549817670357375      FI  2023-11-15 13:24:56\n",
       "358364   453099225938434358      FI  2023-11-15 13:42:19\n",
       "358365  1917224168476386208      FI  2023-11-15 14:12:00\n",
       "\n",
       "[358366 rows x 3 columns]"
      ]
     },
     "execution_count": 8,
     "metadata": {},
     "output_type": "execute_result"
    }
   ],
   "source": [
    "users = pd.read_sql_query('SELECT * FROM users', conn)\n",
    "users"
   ]
  },
  {
   "cell_type": "code",
   "execution_count": 12,
   "metadata": {},
   "outputs": [
    {
     "data": {
      "text/plain": [
       "id            0\n",
       "createdAt     0\n",
       "userId        0\n",
       "quantity      0\n",
       "refunded      0\n",
       "currency      0\n",
       "sales         0\n",
       "providerId    0\n",
       "is_holiday    0\n",
       "dtype: int64"
      ]
     },
     "execution_count": 12,
     "metadata": {},
     "output_type": "execute_result"
    }
   ],
   "source": [
    "orders.isna().sum()"
   ]
  },
  {
   "cell_type": "code",
   "execution_count": 14,
   "metadata": {},
   "outputs": [
    {
     "data": {
      "text/plain": [
       "id                  0\n",
       "defaultOfferType    0\n",
       "country             0\n",
       "registeredDate      0\n",
       "dtype: int64"
      ]
     },
     "execution_count": 14,
     "metadata": {},
     "output_type": "execute_result"
    }
   ],
   "source": [
    "providers.isna().sum()"
   ]
  },
  {
   "cell_type": "code",
   "execution_count": 23,
   "metadata": {},
   "outputs": [
    {
     "data": {
      "text/plain": [
       "currency\n",
       "eur    294671\n",
       "sek      5300\n",
       "Name: count, dtype: int64"
      ]
     },
     "execution_count": 23,
     "metadata": {},
     "output_type": "execute_result"
    }
   ],
   "source": [
    "orders.currency.value_counts()"
   ]
  },
  {
   "cell_type": "code",
   "execution_count": 17,
   "metadata": {},
   "outputs": [],
   "source": [
    "exchange_rates = {\n",
    "    'sek': 0.089,  \n",
    "}"
   ]
  },
  {
   "cell_type": "code",
   "execution_count": 18,
   "metadata": {},
   "outputs": [],
   "source": [
    "def convert_to_euro(row):\n",
    "    if row['currency'] == 'eur':\n",
    "        return row['sales']\n",
    "    else:\n",
    "        exchange_rate = exchange_rates.get(row['currency'], 1) \n",
    "        return row['sales'] * exchange_rate"
   ]
  },
  {
   "cell_type": "code",
   "execution_count": 19,
   "metadata": {},
   "outputs": [],
   "source": [
    "orders['createdAt'] = pd.to_datetime(orders['createdAt'])\n",
    "orders['sales'] = orders['sales'].astype('float')\n",
    "holidays['holyDate'] = pd.to_datetime(holidays['holyDate'])\n",
    "orders['is_holiday'] = orders['createdAt'].dt.date.isin(holidays['holyDate'].dt.date)\n",
    "orders['correct_sales'] = orders.apply(convert_to_euro, axis=1)"
   ]
  },
  {
   "cell_type": "code",
   "execution_count": 20,
   "metadata": {},
   "outputs": [
    {
     "data": {
      "text/html": [
       "<div>\n",
       "<style scoped>\n",
       "    .dataframe tbody tr th:only-of-type {\n",
       "        vertical-align: middle;\n",
       "    }\n",
       "\n",
       "    .dataframe tbody tr th {\n",
       "        vertical-align: top;\n",
       "    }\n",
       "\n",
       "    .dataframe thead th {\n",
       "        text-align: right;\n",
       "    }\n",
       "</style>\n",
       "<table border=\"1\" class=\"dataframe\">\n",
       "  <thead>\n",
       "    <tr style=\"text-align: right;\">\n",
       "      <th></th>\n",
       "      <th>id</th>\n",
       "      <th>createdAt</th>\n",
       "      <th>userId</th>\n",
       "      <th>quantity</th>\n",
       "      <th>refunded</th>\n",
       "      <th>currency</th>\n",
       "      <th>sales</th>\n",
       "      <th>providerId</th>\n",
       "      <th>is_holiday</th>\n",
       "      <th>correct_sales</th>\n",
       "    </tr>\n",
       "  </thead>\n",
       "  <tbody>\n",
       "    <tr>\n",
       "      <th>0</th>\n",
       "      <td>4648711062057701806</td>\n",
       "      <td>2023-08-31 10:14:49</td>\n",
       "      <td>833181563296211638</td>\n",
       "      <td>2</td>\n",
       "      <td>0</td>\n",
       "      <td>eur</td>\n",
       "      <td>1000.0</td>\n",
       "      <td>3518867990385707647</td>\n",
       "      <td>False</td>\n",
       "      <td>1000.0</td>\n",
       "    </tr>\n",
       "    <tr>\n",
       "      <th>1</th>\n",
       "      <td>1676056141507951956</td>\n",
       "      <td>2023-03-21 17:04:54</td>\n",
       "      <td>7763311846463275691</td>\n",
       "      <td>1</td>\n",
       "      <td>0</td>\n",
       "      <td>eur</td>\n",
       "      <td>400.0</td>\n",
       "      <td>6413422964860176913</td>\n",
       "      <td>False</td>\n",
       "      <td>400.0</td>\n",
       "    </tr>\n",
       "    <tr>\n",
       "      <th>2</th>\n",
       "      <td>7745602867536251060</td>\n",
       "      <td>2023-07-19 09:48:28</td>\n",
       "      <td>8919282109171104948</td>\n",
       "      <td>2</td>\n",
       "      <td>0</td>\n",
       "      <td>eur</td>\n",
       "      <td>680.0</td>\n",
       "      <td>123356649204044788</td>\n",
       "      <td>False</td>\n",
       "      <td>680.0</td>\n",
       "    </tr>\n",
       "    <tr>\n",
       "      <th>3</th>\n",
       "      <td>7319989469562109720</td>\n",
       "      <td>2023-08-10 12:29:01</td>\n",
       "      <td>5785370845306063462</td>\n",
       "      <td>1</td>\n",
       "      <td>0</td>\n",
       "      <td>eur</td>\n",
       "      <td>1099.0</td>\n",
       "      <td>7268869293921836511</td>\n",
       "      <td>False</td>\n",
       "      <td>1099.0</td>\n",
       "    </tr>\n",
       "    <tr>\n",
       "      <th>4</th>\n",
       "      <td>8979946097528312402</td>\n",
       "      <td>2022-10-03 09:55:15</td>\n",
       "      <td>8918527236425591239</td>\n",
       "      <td>1</td>\n",
       "      <td>0</td>\n",
       "      <td>eur</td>\n",
       "      <td>200.0</td>\n",
       "      <td>7530970657789428790</td>\n",
       "      <td>False</td>\n",
       "      <td>200.0</td>\n",
       "    </tr>\n",
       "  </tbody>\n",
       "</table>\n",
       "</div>"
      ],
      "text/plain": [
       "                    id           createdAt               userId quantity  \\\n",
       "0  4648711062057701806 2023-08-31 10:14:49   833181563296211638        2   \n",
       "1  1676056141507951956 2023-03-21 17:04:54  7763311846463275691        1   \n",
       "2  7745602867536251060 2023-07-19 09:48:28  8919282109171104948        2   \n",
       "3  7319989469562109720 2023-08-10 12:29:01  5785370845306063462        1   \n",
       "4  8979946097528312402 2022-10-03 09:55:15  8918527236425591239        1   \n",
       "\n",
       "  refunded currency   sales           providerId  is_holiday  correct_sales  \n",
       "0        0      eur  1000.0  3518867990385707647       False         1000.0  \n",
       "1        0      eur   400.0  6413422964860176913       False          400.0  \n",
       "2        0      eur   680.0   123356649204044788       False          680.0  \n",
       "3        0      eur  1099.0  7268869293921836511       False         1099.0  \n",
       "4        0      eur   200.0  7530970657789428790       False          200.0  "
      ]
     },
     "execution_count": 20,
     "metadata": {},
     "output_type": "execute_result"
    }
   ],
   "source": [
    "orders.head()"
   ]
  },
  {
   "cell_type": "code",
   "execution_count": 22,
   "metadata": {},
   "outputs": [
    {
     "data": {
      "text/plain": [
       "628.6650517883395"
      ]
     },
     "execution_count": 22,
     "metadata": {},
     "output_type": "execute_result"
    }
   ],
   "source": [
    "orders.correct_sales.mean()"
   ]
  },
  {
   "cell_type": "code",
   "execution_count": 21,
   "metadata": {},
   "outputs": [
    {
     "data": {
      "text/plain": [
       "(651.1278336012862, 628.2861477313174)"
      ]
     },
     "execution_count": 21,
     "metadata": {},
     "output_type": "execute_result"
    }
   ],
   "source": [
    "average_sales_holiday = orders[orders['is_holiday']]['correct_sales'].mean()\n",
    "average_sales_non_holiday = orders[~orders['is_holiday']]['correct_sales'].mean()\n",
    "\n",
    "average_sales_holiday, average_sales_non_holiday"
   ]
  },
  {
   "cell_type": "code",
   "execution_count": 30,
   "metadata": {},
   "outputs": [
    {
     "data": {
      "image/png": "[encoded data removed]",
      "text/plain": [
       "<Figure size 600x600 with 1 Axes>"
      ]
     },
     "metadata": {},
     "output_type": "display_data"
    }
   ],
   "source": [
    "averages = [average_sales_non_holiday, average_sales_holiday]\n",
    "categories = ['Non-Holiday', 'Holiday']\n",
    "\n",
    "fig, ax = plt.subplots(figsize=(6, 6))\n",
    "bars = ax.bar(categories, averages, color=['#005f73', '#d9534f'], width=0.4)\n",
    "\n",
    "# Adding value labels on top of each bar\n",
    "for bar in bars:\n",
    "    height = bar.get_height()\n",
    "    ax.annotate(f'{height:.2f}',\n",
    "                xy=(bar.get_x() + bar.get_width() / 2, height / 2.8),\n",
    "                textcoords=\"offset points\",\n",
    "                ha='center', va='bottom')\n",
    "\n",
    "\n",
    "ax.set_yticklabels([])\n",
    "ax.tick_params(length=0)\n",
    "ax.spines[['right', 'left', 'top']].set_visible(False)\n",
    "fig.text(0.5, -0.02, 'Average Sales in Holidays and Non-Holidays', ha='center', va='bottom', color='gray', fontsize=12)\n",
    "\n",
    "plt.tight_layout()\n",
    "plt.show()"
   ]
  },
  {
   "cell_type": "code",
   "execution_count": 24,
   "metadata": {},
   "outputs": [
    {
     "data": {
      "text/plain": [
       "<Axes: ylabel='Frequency'>"
      ]
     },
     "execution_count": 24,
     "metadata": {},
     "output_type": "execute_result"
    },
    {
     "data": {
      "image/png": "[encoded data removed]",
      "text/plain": [
       "<Figure size 640x480 with 1 Axes>"
      ]
     },
     "metadata": {},
     "output_type": "display_data"
    }
   ],
   "source": [
    "orders['sales'].plot(kind='hist', bins=200)"
   ]
  },
  {
   "cell_type": "code",
   "execution_count": 27,
   "metadata": {},
   "outputs": [
    {
     "data": {
      "text/plain": [
       "(739828037.0, 0.3311821361411026)"
      ]
     },
     "execution_count": 27,
     "metadata": {},
     "output_type": "execute_result"
    }
   ],
   "source": [
    "holiday_sales = orders[orders['is_holiday']]['sales']\n",
    "non_holiday_sales = orders[~orders['is_holiday']]['sales']\n",
    "\n",
    "u_stat, p_value_mw = mannwhitneyu(holiday_sales, non_holiday_sales, alternative='two-sided')\n",
    "\n",
    "u_stat, p_value_mw"
   ]
  },
  {
   "cell_type": "markdown",
   "metadata": {},
   "source": [
    "The Mann-Whitney U-test results in a U-statistic of approximately 739,828,037 and a p-value of approximately 0.331. The p-value is much greater than the common significance level of 0.05, indicating that we do not have sufficient evidence to reject the null hypothesis that there is no difference in the distributions of sales between holiday and non-holiday periods."
   ]
  },
  {
   "cell_type": "code",
   "execution_count": 32,
   "metadata": {},
   "outputs": [
    {
     "data": {
      "text/plain": [
       "(1206, 3561)"
      ]
     },
     "execution_count": 32,
     "metadata": {},
     "output_type": "execute_result"
    }
   ],
   "source": [
    "unique_providers_holiday = orders[orders['is_holiday']]['providerId'].nunique()\n",
    "unique_providers_non_holiday = orders[~orders['is_holiday']]['providerId'].nunique()\n",
    "\n",
    "unique_providers_holiday, unique_providers_non_holiday\n"
   ]
  },
  {
   "cell_type": "code",
   "execution_count": 38,
   "metadata": {},
   "outputs": [
    {
     "data": {
      "image/png": "[encoded data removed]",
      "text/plain": [
       "<Figure size 600x600 with 1 Axes>"
      ]
     },
     "metadata": {},
     "output_type": "display_data"
    }
   ],
   "source": [
    "averages = [unique_providers_non_holiday, unique_providers_holiday]\n",
    "categories = ['Non-Holiday', 'Holiday']\n",
    "\n",
    "fig, ax = plt.subplots(figsize=(6, 6))\n",
    "bars = ax.bar(categories, averages, color=['#005f73', '#d9534f'], width=0.4)\n",
    "\n",
    "# Adding value labels on top of each bar\n",
    "for bar in bars:\n",
    "    height = bar.get_height()\n",
    "    ax.annotate(f'{height}',\n",
    "                xy=(bar.get_x() + bar.get_width() / 2, height / 11),\n",
    "                textcoords=\"offset points\",\n",
    "                ha='center', va='bottom')\n",
    "\n",
    "\n",
    "ax.set_yticklabels([])\n",
    "ax.tick_params(length=0)\n",
    "ax.spines[['right', 'left', 'top']].set_visible(False)\n",
    "fig.text(0.5, -0.02, 'Number of Providers in Holidays and Non-Holidays', ha='center', va='bottom', color='gray', fontsize=12)\n",
    "\n",
    "plt.tight_layout()\n",
    "plt.show()"
   ]
  },
  {
   "cell_type": "code",
   "execution_count": 39,
   "metadata": {},
   "outputs": [
    {
     "data": {
      "text/plain": [
       "(4976, 294995, 0.016588270199452613, 0.9834117298005474)"
      ]
     },
     "execution_count": 39,
     "metadata": {},
     "output_type": "execute_result"
    }
   ],
   "source": [
    "# Calculate total order volume for holiday and non-holiday periods\n",
    "total_orders_holiday = orders[orders['is_holiday']].shape[0]\n",
    "total_orders_non_holiday = orders[~orders['is_holiday']].shape[0]\n",
    "\n",
    "# Calculate the proportion of orders on holidays vs total orders\n",
    "total_orders = orders.shape[0]\n",
    "proportion_orders_holiday = total_orders_holiday / total_orders\n",
    "proportion_orders_non_holiday = total_orders_non_holiday / total_orders\n",
    "\n",
    "total_orders_holiday, total_orders_non_holiday, proportion_orders_holiday, proportion_orders_non_holiday\n"
   ]
  },
  {
   "cell_type": "code",
   "execution_count": 40,
   "metadata": {},
   "outputs": [
    {
     "data": {
      "text/plain": [
       "(15,\n",
       " 15,\n",
       " 1059,\n",
       " 61973,\n",
       " 3917,\n",
       " 233022,\n",
       " 70.6,\n",
       " 177.06571428571428,\n",
       " 261.1333333333333,\n",
       " 665.7771428571428)"
      ]
     },
     "execution_count": 40,
     "metadata": {},
     "output_type": "execute_result"
    }
   ],
   "source": [
    "# Let's correct the oversight by redefining the necessary parts and performing the calculations in one coherent step.\n",
    "\n",
    "# Convert 'holyDate' to datetime format again to ensure it's correct\n",
    "holidays['holyDate'] = pd.to_datetime(holidays['holyDate'])\n",
    "\n",
    "# Re-identify holiday dates for each year\n",
    "holiday_dates_2022 = holidays[holidays['holyDate'].dt.year == 2022]\n",
    "holiday_dates_2023 = holidays[holidays['holyDate'].dt.year == 2023]\n",
    "\n",
    "# Recalculate the number of holiday days for each year\n",
    "number_of_holiday_days_2022 = holiday_dates_2022['holyDate'].nunique()\n",
    "number_of_holiday_days_2023 = holiday_dates_2023['holyDate'].nunique()\n",
    "\n",
    "# Assume 365 days per year for simplicity to calculate non-holiday days\n",
    "number_of_non_holiday_days_2022 = 365 - number_of_holiday_days_2022\n",
    "number_of_non_holiday_days_2023 = 365 - number_of_holiday_days_2023\n",
    "\n",
    "# Filter the sales data by year\n",
    "orders_2022 = orders[orders['createdAt'].dt.year == 2022]\n",
    "orders_2023 = orders[orders['createdAt'].dt.year == 2023]\n",
    "\n",
    "# Calculate total orders for holiday and non-holiday periods for each year\n",
    "total_orders_holiday_2022 = orders_2022[orders_2022['is_holiday']].shape[0]\n",
    "total_orders_non_holiday_2022 = orders_2022[~orders_2022['is_holiday']].shape[0]\n",
    "total_orders_holiday_2023 = orders_2023[orders_2023['is_holiday']].shape[0]\n",
    "total_orders_non_holiday_2023 = orders_2023[~orders_2023['is_holiday']].shape[0]\n",
    "\n",
    "# Calculate the average daily orders for holidays and non-holidays for each year\n",
    "average_daily_orders_holiday_2022 = total_orders_holiday_2022 / number_of_holiday_days_2022\n",
    "average_daily_orders_non_holiday_2022 = total_orders_non_holiday_2022 / number_of_non_holiday_days_2022\n",
    "average_daily_orders_holiday_2023 = total_orders_holiday_2023 / number_of_holiday_days_2023\n",
    "average_daily_orders_non_holiday_2023 = total_orders_non_holiday_2023 / number_of_non_holiday_days_2023\n",
    "\n",
    "(number_of_holiday_days_2022, number_of_holiday_days_2023,\n",
    " total_orders_holiday_2022, total_orders_non_holiday_2022,\n",
    " total_orders_holiday_2023, total_orders_non_holiday_2023,\n",
    " average_daily_orders_holiday_2022, average_daily_orders_non_holiday_2022,\n",
    " average_daily_orders_holiday_2023, average_daily_orders_non_holiday_2023)"
   ]
  },
  {
   "cell_type": "code",
   "execution_count": null,
   "metadata": {},
   "outputs": [],
   "source": []
  }
 ],
 "metadata": {
  "kernelspec": {
   "display_name": "Python 3",
   "language": "python",
   "name": "python3"
  },
  "language_info": {
   "codemirror_mode": {
    "name": "ipython",
    "version": 3
   },
   "file_extension": ".py",
   "mimetype": "text/x-python",
   "name": "python",
   "nbconvert_exporter": "python",
   "pygments_lexer": "ipython3",
   "version": "3.11.5"
  }
 },
 "nbformat": 4,
 "nbformat_minor": 2
}
